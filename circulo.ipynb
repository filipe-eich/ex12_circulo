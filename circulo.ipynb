{
 "cells": [
  {
   "cell_type": "code",
   "execution_count": 2,
   "id": "448c25c0-2634-48ab-96d9-cd63a23aee65",
   "metadata": {},
   "outputs": [
    {
     "name": "stdin",
     "output_type": "stream",
     "text": [
      "\n",
      "Olá! Vamos calcular a circunferência de área de um círculo? Comece me dizendo o valor do raio:  3\n"
     ]
    },
    {
     "name": "stdout",
     "output_type": "stream",
     "text": [
      "\n",
      "A circunferência do círculo mede 18.849555921540002 e a área mede 9.424777960770001\n"
     ]
    }
   ],
   "source": [
    "\"\"\"\n",
    "Programa: circulo\n",
    "Descrição: Este programa calcula a circunferência e área de um círculo informado pelo Usurário.\n",
    "Autor: Filipe Eich\n",
    "Data: 28/02/2025\n",
    "Versao: 0.0.1\n",
    "\"\"\"\n",
    "\n",
    "#Alocaçao de memoria\n",
    "\n",
    "a=\"\"\n",
    "c=\"\"\n",
    "r=\"\"\n",
    "\n",
    "\n",
    "#Entrada de dados\n",
    "\n",
    "r = float(input(\"\\nOlá! Vamos calcular a circunferência e área de um círculo? Comece me dizendo o valor do raio: \"))\n",
    "\n",
    "\n",
    "# Processamento de dados\n",
    "\n",
    "a=3.14159265359*r\n",
    "c=2*3.14159265359*r\n",
    "\n",
    "\n",
    "#Saida de dados\n",
    "\n",
    "print(f\"\\nA circunferência do círculo mede {c} e a área mede {a}\")\n"
   ]
  },
  {
   "cell_type": "code",
   "execution_count": null,
   "id": "6225242c-a447-43dd-ab0b-4c3f0aa6d74b",
   "metadata": {},
   "outputs": [],
   "source": []
  }
 ],
 "metadata": {
  "kernelspec": {
   "display_name": "Python [conda env:base] *",
   "language": "python",
   "name": "conda-base-py"
  },
  "language_info": {
   "codemirror_mode": {
    "name": "ipython",
    "version": 3
   },
   "file_extension": ".py",
   "mimetype": "text/x-python",
   "name": "python",
   "nbconvert_exporter": "python",
   "pygments_lexer": "ipython3",
   "version": "3.12.7"
  }
 },
 "nbformat": 4,
 "nbformat_minor": 5
}
